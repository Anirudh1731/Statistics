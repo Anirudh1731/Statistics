{
  "nbformat": 4,
  "nbformat_minor": 0,
  "metadata": {
    "colab": {
      "provenance": []
    },
    "kernelspec": {
      "name": "python3",
      "display_name": "Python 3"
    },
    "language_info": {
      "name": "python"
    }
  },
  "cells": [
    {
      "cell_type": "code",
      "execution_count": 2,
      "metadata": {
        "id": "0FabOqbMx4R-"
      },
      "outputs": [],
      "source": [
        "Sample = [42 ,61, 39, 70, 8 ,30, 52, 28, 95, 86, 35, 77, 80, 86, 1 ,84 ,90 ,57 ,45 ,6 ,1, 56 ,60 ,83 ,24 ,63, 93 ,59, 92, 53]\n"
      ]
    },
    {
      "cell_type": "code",
      "source": [
        "import numpy as np\n"
      ],
      "metadata": {
        "id": "bscFHeKYx9AP"
      },
      "execution_count": 3,
      "outputs": []
    },
    {
      "cell_type": "code",
      "source": [
        "a=np.array(Sample)"
      ],
      "metadata": {
        "id": "gvkn6-iXx_WO"
      },
      "execution_count": 4,
      "outputs": []
    },
    {
      "cell_type": "code",
      "source": [
        "np.std(a)"
      ],
      "metadata": {
        "colab": {
          "base_uri": "https://localhost:8080/"
        },
        "id": "UpVy5hegyM95",
        "outputId": "c00c457d-fc89-45e9-ff60-3b9a36e5db21"
      },
      "execution_count": 5,
      "outputs": [
        {
          "output_type": "execute_result",
          "data": {
            "text/plain": [
              "28.49491182649983"
            ]
          },
          "metadata": {},
          "execution_count": 5
        }
      ]
    },
    {
      "cell_type": "code",
      "source": [
        "np.var(a)"
      ],
      "metadata": {
        "colab": {
          "base_uri": "https://localhost:8080/"
        },
        "id": "CJqacEityPlQ",
        "outputId": "b9b12f1e-004d-45be-b374-265121fc0d7b"
      },
      "execution_count": 6,
      "outputs": [
        {
          "output_type": "execute_result",
          "data": {
            "text/plain": [
              "811.9599999999999"
            ]
          },
          "metadata": {},
          "execution_count": 6
        }
      ]
    },
    {
      "cell_type": "code",
      "source": [
        "array = np.array([17, 27, 80, 39, 72, 95, 52, 85, 8, 64, 36, 15, 62, 76, 66, 67, 59, 92])"
      ],
      "metadata": {
        "id": "g9pTdf1SyRw0"
      },
      "execution_count": 7,
      "outputs": []
    },
    {
      "cell_type": "code",
      "source": [
        "q1=np.quantile(array, 0.25)"
      ],
      "metadata": {
        "id": "BiU2rt6vyZSn"
      },
      "execution_count": 11,
      "outputs": []
    },
    {
      "cell_type": "code",
      "source": [
        "q3=np.quantile(array, 0.75)"
      ],
      "metadata": {
        "id": "SuD6lGadyddd"
      },
      "execution_count": 12,
      "outputs": []
    },
    {
      "cell_type": "code",
      "source": [
        "iqr=q3-q1"
      ],
      "metadata": {
        "id": "B7Boh9YGyhug"
      },
      "execution_count": 13,
      "outputs": []
    },
    {
      "cell_type": "code",
      "source": [
        "iqr"
      ],
      "metadata": {
        "colab": {
          "base_uri": "https://localhost:8080/"
        },
        "id": "bOT_eRgVyjOi",
        "outputId": "d164f54c-8805-4c0b-a534-9bdfaa219ded"
      },
      "execution_count": 14,
      "outputs": [
        {
          "output_type": "execute_result",
          "data": {
            "text/plain": [
              "38.25"
            ]
          },
          "metadata": {},
          "execution_count": 14
        }
      ]
    },
    {
      "cell_type": "code",
      "source": [
        "Sample = [78 ,65, 20 ,69 ,36 ,81 ,85 ,71 ,44, 71, 47, 37, 89, 25, 73, 55, 80, 52, 46, 77]"
      ],
      "metadata": {
        "id": "QQ8PptHaynw6"
      },
      "execution_count": 15,
      "outputs": []
    },
    {
      "cell_type": "code",
      "source": [
        "a=np.array(Sample)"
      ],
      "metadata": {
        "id": "0DbEGxqZ1BSO"
      },
      "execution_count": 16,
      "outputs": []
    },
    {
      "cell_type": "code",
      "source": [
        "np.quantile(Sample,0.95)"
      ],
      "metadata": {
        "colab": {
          "base_uri": "https://localhost:8080/"
        },
        "id": "-ZzX8ROl1GqN",
        "outputId": "29c716fb-8238-44a9-e9e9-af245cdee909"
      },
      "execution_count": 17,
      "outputs": [
        {
          "output_type": "execute_result",
          "data": {
            "text/plain": [
              "85.2"
            ]
          },
          "metadata": {},
          "execution_count": 17
        }
      ]
    },
    {
      "cell_type": "code",
      "source": [
        "import numpy as np\n",
        "from scipy import stats\n",
        "\n",
        "# Given sample data\n",
        "sample = np.array([78, 65, 20, 69, 36, 81, 85, 71, 44, 71, 47, 37, 89, 25, 73, 55, 80, 52, 46, 77])\n",
        "\n",
        "# Calculate the sample mean and standard error of the mean\n",
        "mean = np.mean(sample)\n",
        "std_err = stats.sem(sample)\n",
        "\n",
        "# Get the t-critical value for 95% confidence interval and degrees of freedom\n",
        "t_critical = stats.t.ppf(1 - 0.025, df=len(sample) - 1)\n",
        "\n",
        "# Calculate the margin of error\n",
        "margin_of_error = t_critical * std_err\n",
        "\n",
        "# Calculate the confidence interval\n",
        "confidence_interval = (mean - margin_of_error, mean + margin_of_error)\n",
        "\n",
        "# Display the result\n",
        "print(f\"95% Confidence Interval: {confidence_interval}\")"
      ],
      "metadata": {
        "colab": {
          "base_uri": "https://localhost:8080/"
        },
        "id": "B8qdSsTt1Kl1",
        "outputId": "6b8ea3cb-59dc-4168-c5af-9cc7dd506935"
      },
      "execution_count": 18,
      "outputs": [
        {
          "output_type": "stream",
          "name": "stdout",
          "text": [
            "95% Confidence Interval: (50.400470937660145, 69.69952906233985)\n"
          ]
        }
      ]
    },
    {
      "cell_type": "code",
      "source": [
        "import numpy as np\n",
        "from scipy.stats import ttest_1samp\n",
        "\n",
        "# Given sample data\n",
        "sample = np.array([88, 92, 84, 64, 96, 97, 67, 97, 96, 99, 115, 119, 119, 129, 130, 142, 102, 123, 134, 105])\n",
        "\n",
        "# Population mean for the test\n",
        "population_mean = 100\n",
        "\n",
        "# Perform the one-sample t-test\n",
        "t_statistic, p_value = ttest_1samp(a=sample, popmean=population_mean)\n",
        "\n",
        "# Display the result\n",
        "print(f\"T-statistic: {t_statistic}\")\n",
        "print(f\"P-value: {p_value}\")\n"
      ],
      "metadata": {
        "colab": {
          "base_uri": "https://localhost:8080/"
        },
        "id": "tsD_dULJ1bAP",
        "outputId": "2f12f93b-82e2-4fd7-c750-1f96f1fce88c"
      },
      "execution_count": 19,
      "outputs": [
        {
          "output_type": "stream",
          "name": "stdout",
          "text": [
            "T-statistic: 1.0308547928995084\n",
            "P-value: 0.31555351096823475\n"
          ]
        }
      ]
    },
    {
      "cell_type": "code",
      "source": [
        "from scipy.stats import ttest_1samp\n",
        "Sample= [5 ,3, 3, 5, 5, 6, 6, 7, 3, 8]\n",
        "ttest_1samp(a=Sample,popmean=8)"
      ],
      "metadata": {
        "colab": {
          "base_uri": "https://localhost:8080/"
        },
        "id": "_V6v0s1Z2-2m",
        "outputId": "51a93b95-5c69-43df-b31d-b5b7b0971b16"
      },
      "execution_count": 20,
      "outputs": [
        {
          "output_type": "execute_result",
          "data": {
            "text/plain": [
              "TtestResult(statistic=-5.304483619392325, pvalue=0.0004909393164477487, df=9)"
            ]
          },
          "metadata": {},
          "execution_count": 20
        }
      ]
    },
    {
      "cell_type": "code",
      "source": [
        "# Find t-statistic for the following sample sets assuming their means are same:\n",
        "Sample1=[-3, 3, 5, 9, 2, 5, 10, 5, 2, 6]\n",
        "Sample2=[ 6 ,7 ,8 ,7 ,3 ,12, 7, 10, 6, 11]"
      ],
      "metadata": {
        "id": "vggiCgKW7H2O"
      },
      "execution_count": 22,
      "outputs": []
    },
    {
      "cell_type": "code",
      "source": [
        "from scipy.stats import ttest_ind\n",
        "ttest_ind(Sample1,Sample2)"
      ],
      "metadata": {
        "colab": {
          "base_uri": "https://localhost:8080/"
        },
        "id": "opkr3crR7qpn",
        "outputId": "5c0beef0-38de-42ed-e475-d29dd859e0f5"
      },
      "execution_count": 23,
      "outputs": [
        {
          "output_type": "execute_result",
          "data": {
            "text/plain": [
              "TtestResult(statistic=-2.2802345265391493, pvalue=0.034998593532530806, df=18.0)"
            ]
          },
          "metadata": {},
          "execution_count": 23
        }
      ]
    },
    {
      "cell_type": "code",
      "source": [
        "from scipy import stats\n",
        "\n",
        "# Given data\n",
        "S1_squared = 1.84\n",
        "S2_squared = 6.36\n",
        "n1 = 24\n",
        "n2 = 25\n",
        "\n",
        "# Calculate the F-statistic\n",
        "F_statistic = S2_squared / S1_squared\n",
        "\n",
        "# Degrees of freedom\n",
        "df1 = n2 - 1\n",
        "df2 = n1 - 1\n",
        "\n",
        "# Critical value for the F-distribution at 95% significance level\n",
        "alpha = 0.05\n",
        "F_critical = stats.f.ppf(1 - alpha, df1, df2)\n",
        "\n",
        "# Output results\n",
        "print(f\"F-statistic: {F_statistic:.2f}\")\n",
        "print(f\"Critical F-value at 95% significance level: {F_critical:.2f}\")\n",
        "\n",
        "# Decision\n",
        "if F_statistic > F_critical:\n",
        "    print(\"Reject the null hypothesis: The variances are significantly different.\")\n",
        "else:\n",
        "    print(\"Fail to reject the null hypothesis: The variances are not significantly different.\")\n"
      ],
      "metadata": {
        "colab": {
          "base_uri": "https://localhost:8080/"
        },
        "id": "GmIzKxsJ7y4_",
        "outputId": "ee646578-1758-4a4a-adfb-a5cd7eb1b1a0"
      },
      "execution_count": 24,
      "outputs": [
        {
          "output_type": "stream",
          "name": "stdout",
          "text": [
            "F-statistic: 3.46\n",
            "Critical F-value at 95% significance level: 2.01\n",
            "Reject the null hypothesis: The variances are significantly different.\n"
          ]
        }
      ]
    },
    {
      "cell_type": "code",
      "source": [
        "from scipy import stats\n",
        "import numpy as np\n",
        "\n",
        "# Given data\n",
        "mean_temp = 450.3\n",
        "variance = 1.0\n",
        "sample_size = 24\n",
        "desired_mean = 450\n",
        "\n",
        "# Calculate the sample standard deviation\n",
        "sample_std_dev = np.sqrt(variance)\n",
        "\n",
        "# Calculate the t-statistic\n",
        "t_statistic = (mean_temp - desired_mean) / (sample_std_dev / np.sqrt(sample_size))\n",
        "\n",
        "# Degrees of freedom\n",
        "df = sample_size - 1\n",
        "\n",
        "# Critical t-value for a two-tailed test at 95% significance level\n",
        "alpha = 0.05\n",
        "t_critical = stats.t.ppf(1 - alpha / 2, df)\n",
        "\n",
        "# Output results\n",
        "print(f\"T-statistic: {t_statistic:.2f}\")\n",
        "print(f\"Critical t-value at 95% significance level: ±{t_critical:.2f}\")\n",
        "\n",
        "# Decision\n",
        "if abs(t_statistic) > t_critical:\n",
        "    print(\"Reject the null hypothesis: The reactor temperature is significantly different from the desired 450°C.\")\n",
        "else:\n",
        "    print(\"Fail to reject the null hypothesis: There is no significant difference from the desired 450°C.\")\n"
      ],
      "metadata": {
        "colab": {
          "base_uri": "https://localhost:8080/"
        },
        "id": "d4u5AkAi-Z7y",
        "outputId": "4ca08397-d46f-4a2f-e8cc-77796b17c12f"
      },
      "execution_count": 25,
      "outputs": [
        {
          "output_type": "stream",
          "name": "stdout",
          "text": [
            "T-statistic: 1.47\n",
            "Critical t-value at 95% significance level: ±2.07\n",
            "Fail to reject the null hypothesis: There is no significant difference from the desired 450°C.\n"
          ]
        }
      ]
    },
    {
      "cell_type": "code",
      "source": [],
      "metadata": {
        "id": "m4OTxcxP-8o1"
      },
      "execution_count": null,
      "outputs": []
    }
  ]
}