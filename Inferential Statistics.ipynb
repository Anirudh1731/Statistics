{
 "cells": [
  {
   "cell_type": "code",
   "execution_count": null,
   "id": "6e900a89",
   "metadata": {},
   "outputs": [],
   "source": []
  },
  {
   "cell_type": "code",
   "execution_count": null,
   "id": "91307444",
   "metadata": {},
   "outputs": [],
   "source": []
  },
  {
   "cell_type": "code",
   "execution_count": null,
   "id": "bf5454bc",
   "metadata": {},
   "outputs": [],
   "source": []
  },
  {
   "cell_type": "code",
   "execution_count": null,
   "id": "26257746",
   "metadata": {},
   "outputs": [],
   "source": []
  },
  {
   "cell_type": "code",
   "execution_count": null,
   "id": "b1b90aca",
   "metadata": {},
   "outputs": [],
   "source": []
  },
  {
   "cell_type": "code",
   "execution_count": null,
   "id": "2a781604",
   "metadata": {},
   "outputs": [],
   "source": []
  },
  {
   "cell_type": "code",
   "execution_count": null,
   "id": "a5e4973e",
   "metadata": {},
   "outputs": [],
   "source": []
  },
  {
   "cell_type": "code",
   "execution_count": null,
   "id": "abaf2b2b",
   "metadata": {},
   "outputs": [],
   "source": []
  },
  {
   "cell_type": "code",
   "execution_count": null,
   "id": "56cfdf3a",
   "metadata": {},
   "outputs": [],
   "source": [
    "#one sample t test\n",
    "\n",
    "# the average height of Std X student in Indian is 165 cm, pick out a sample "
   ]
  },
  {
   "cell_type": "code",
   "execution_count": 1,
   "id": "560a6a49",
   "metadata": {},
   "outputs": [],
   "source": [
    "# H0=> the average height is 165 cm\n",
    "# H1=> the average height is not 165 cm"
   ]
  },
  {
   "cell_type": "code",
   "execution_count": 1,
   "id": "c42e028a",
   "metadata": {},
   "outputs": [],
   "source": [
    "from random import sample"
   ]
  },
  {
   "cell_type": "code",
   "execution_count": 3,
   "id": "e65d3db3",
   "metadata": {},
   "outputs": [],
   "source": [
    "sample1=sample(range(145,180),30)"
   ]
  },
  {
   "cell_type": "code",
   "execution_count": 4,
   "id": "4a8df667",
   "metadata": {},
   "outputs": [
    {
     "data": {
      "text/plain": [
       "[174,\n",
       " 160,\n",
       " 178,\n",
       " 166,\n",
       " 152,\n",
       " 172,\n",
       " 154,\n",
       " 164,\n",
       " 167,\n",
       " 162,\n",
       " 176,\n",
       " 159,\n",
       " 145,\n",
       " 155,\n",
       " 151,\n",
       " 161,\n",
       " 168,\n",
       " 146,\n",
       " 157,\n",
       " 153,\n",
       " 150,\n",
       " 148,\n",
       " 147,\n",
       " 165,\n",
       " 173,\n",
       " 149,\n",
       " 179,\n",
       " 175,\n",
       " 169,\n",
       " 163]"
      ]
     },
     "execution_count": 4,
     "metadata": {},
     "output_type": "execute_result"
    }
   ],
   "source": [
    "sample1"
   ]
  },
  {
   "cell_type": "code",
   "execution_count": 5,
   "id": "b8b2c156",
   "metadata": {},
   "outputs": [],
   "source": [
    "from scipy.stats import ttest_1samp"
   ]
  },
  {
   "cell_type": "code",
   "execution_count": 6,
   "id": "33a4a0f4",
   "metadata": {},
   "outputs": [
    {
     "data": {
      "text/plain": [
       "TtestResult(statistic=-1.9676813168220666, pvalue=0.058733999531906285, df=29)"
      ]
     },
     "execution_count": 6,
     "metadata": {},
     "output_type": "execute_result"
    }
   ],
   "source": [
    "ttest_1samp(a=sample1,popmean=165)"
   ]
  },
  {
   "cell_type": "code",
   "execution_count": null,
   "id": "bad14f32",
   "metadata": {},
   "outputs": [],
   "source": [
    "# here p value > 0.05 hence we accept null hypothesis "
   ]
  },
  {
   "cell_type": "code",
   "execution_count": null,
   "id": "694f9578",
   "metadata": {},
   "outputs": [],
   "source": [
    "#2 sample t test\n",
    "# s1=>male\n",
    "# s2=>female\n",
    "\n",
    "# h0=the means are same\n",
    "# h1=the means are different"
   ]
  },
  {
   "cell_type": "code",
   "execution_count": 2,
   "id": "a77d13d8",
   "metadata": {},
   "outputs": [],
   "source": [
    "sample1=sample(range(145,185),30)\n",
    "sample2=sample(range(135,165),30)"
   ]
  },
  {
   "cell_type": "code",
   "execution_count": 3,
   "id": "1cc2ea39",
   "metadata": {},
   "outputs": [],
   "source": [
    "from scipy.stats import ttest_ind\n"
   ]
  },
  {
   "cell_type": "code",
   "execution_count": 4,
   "id": "9afe6626",
   "metadata": {},
   "outputs": [
    {
     "data": {
      "text/plain": [
       "TtestResult(statistic=6.032610236880175, pvalue=1.204150242809534e-07, df=58.0)"
      ]
     },
     "execution_count": 4,
     "metadata": {},
     "output_type": "execute_result"
    }
   ],
   "source": [
    "ttest_ind(sample1,sample2)\n"
   ]
  },
  {
   "cell_type": "code",
   "execution_count": null,
   "id": "a4d66c8b",
   "metadata": {},
   "outputs": [],
   "source": [
    "# here p val < 0.05 hence we reject null hypothesis "
   ]
  },
  {
   "cell_type": "code",
   "execution_count": 5,
   "id": "82e323e1",
   "metadata": {},
   "outputs": [],
   "source": [
    "#Paired t test \n",
    "# h0=> the mean are equal\n",
    "# h1=> the mean are not same"
   ]
  },
  {
   "cell_type": "code",
   "execution_count": 6,
   "id": "337bf38a",
   "metadata": {},
   "outputs": [],
   "source": [
    "sample1=sample(range(135,185),30)\n",
    "sample2=sample(range(135,185),30)"
   ]
  },
  {
   "cell_type": "code",
   "execution_count": 7,
   "id": "1270d0b4",
   "metadata": {},
   "outputs": [],
   "source": [
    "from scipy.stats import ttest_rel"
   ]
  },
  {
   "cell_type": "code",
   "execution_count": 9,
   "id": "afb47880",
   "metadata": {},
   "outputs": [
    {
     "data": {
      "text/plain": [
       "TtestResult(statistic=-0.885134525835643, pvalue=0.38336462788771897, df=29)"
      ]
     },
     "execution_count": 9,
     "metadata": {},
     "output_type": "execute_result"
    }
   ],
   "source": [
    "ttest_rel(sample1,sample2)"
   ]
  },
  {
   "cell_type": "code",
   "execution_count": 10,
   "id": "1ffe547a",
   "metadata": {},
   "outputs": [],
   "source": [
    "# here p vale > 0.05 hence accept null hypothesis"
   ]
  },
  {
   "cell_type": "code",
   "execution_count": 16,
   "id": "a983ef09",
   "metadata": {},
   "outputs": [],
   "source": [
    "import scipy"
   ]
  },
  {
   "cell_type": "code",
   "execution_count": 13,
   "id": "2fae551d",
   "metadata": {},
   "outputs": [],
   "source": [
    "import numpy as np"
   ]
  },
  {
   "cell_type": "code",
   "execution_count": 11,
   "id": "7aa36ed1",
   "metadata": {},
   "outputs": [],
   "source": [
    "#F test\n",
    "sample_1=sample(range(0,100),30)\n",
    "sample_2=sample(range(20,80),30)\n"
   ]
  },
  {
   "cell_type": "code",
   "execution_count": 14,
   "id": "838fb5bf",
   "metadata": {},
   "outputs": [],
   "source": [
    "f_stat=np.var(sample_1)/np.var(sample_2)"
   ]
  },
  {
   "cell_type": "code",
   "execution_count": 17,
   "id": "522305f0",
   "metadata": {},
   "outputs": [],
   "source": [
    "p=1-scipy.stats.f.cdf(f_stat,len(sample_1)-1,len(sample_2)-1)"
   ]
  },
  {
   "cell_type": "code",
   "execution_count": 19,
   "id": "df0ee7a4",
   "metadata": {},
   "outputs": [
    {
     "name": "stdout",
     "output_type": "stream",
     "text": [
      "2.477078820941187 0.008607477819972065\n"
     ]
    }
   ],
   "source": [
    "print(f_stat,p)"
   ]
  },
  {
   "cell_type": "code",
   "execution_count": 20,
   "id": "455bb972",
   "metadata": {},
   "outputs": [],
   "source": [
    "# here p is < 0.05 so we can reject null hypothesis"
   ]
  },
  {
   "cell_type": "code",
   "execution_count": null,
   "id": "b7776475",
   "metadata": {},
   "outputs": [],
   "source": [
    "#ANOVA\n",
    "\n",
    "#One way Anova\n",
    "\n",
    "# We have to check the effect of 4 different enhancers on EV is same or not\n",
    "\n",
    "# H0=> The perfomance averages are equal\n",
    "# H1=> The perfomance averages are not equal\n",
    "\n"
   ]
  },
  {
   "cell_type": "code",
   "execution_count": 21,
   "id": "e987505a",
   "metadata": {},
   "outputs": [],
   "source": [
    "sample1=sample(range(0,100),20)\n",
    "sample2=sample(range(0,95),20)\n",
    "sample3=sample(range(0,120),20)\n",
    "sample4=sample(range(0,145),20)\n",
    "\n"
   ]
  },
  {
   "cell_type": "code",
   "execution_count": 22,
   "id": "4c9de992",
   "metadata": {},
   "outputs": [],
   "source": [
    "from scipy.stats import f_oneway"
   ]
  },
  {
   "cell_type": "code",
   "execution_count": 23,
   "id": "cd11d7f3",
   "metadata": {},
   "outputs": [
    {
     "data": {
      "text/plain": [
       "F_onewayResult(statistic=7.503557951052022, pvalue=0.0001829448596976876)"
      ]
     },
     "execution_count": 23,
     "metadata": {},
     "output_type": "execute_result"
    }
   ],
   "source": [
    "f_oneway(sample1,sample2,sample3,sample4)"
   ]
  },
  {
   "cell_type": "code",
   "execution_count": null,
   "id": "02a84e07",
   "metadata": {},
   "outputs": [],
   "source": [
    "# here p value < 0.05 hence we reject null hypothesis (hence the perfomance enhancers have impact on perfomance)"
   ]
  },
  {
   "cell_type": "code",
   "execution_count": 24,
   "id": "45e6fb6e",
   "metadata": {},
   "outputs": [],
   "source": [
    "#2 way annova\n",
    "\n",
    "# h0= there is no sognificance of two factors on the response variable\n",
    "# h1=> there is significance of 2 factors on the response variable\n",
    "\n",
    "x={'Lectures':np.repeat(['Daily','Weekly'],20),\n",
    "  'Tution':np.repeat(['Daily','Weekly'],20),\n",
    "   'Marks':sample(range(35,100),40)}\n",
    "\n"
   ]
  },
  {
   "cell_type": "code",
   "execution_count": 25,
   "id": "2d98879d",
   "metadata": {},
   "outputs": [],
   "source": [
    "import pandas as pd"
   ]
  },
  {
   "cell_type": "code",
   "execution_count": 26,
   "id": "ab0a4a63",
   "metadata": {},
   "outputs": [],
   "source": [
    "marks_data=pd.DataFrame(x)"
   ]
  },
  {
   "cell_type": "code",
   "execution_count": 27,
   "id": "ab9adc63",
   "metadata": {},
   "outputs": [
    {
     "data": {
      "text/html": [
       "<div>\n",
       "<style scoped>\n",
       "    .dataframe tbody tr th:only-of-type {\n",
       "        vertical-align: middle;\n",
       "    }\n",
       "\n",
       "    .dataframe tbody tr th {\n",
       "        vertical-align: top;\n",
       "    }\n",
       "\n",
       "    .dataframe thead th {\n",
       "        text-align: right;\n",
       "    }\n",
       "</style>\n",
       "<table border=\"1\" class=\"dataframe\">\n",
       "  <thead>\n",
       "    <tr style=\"text-align: right;\">\n",
       "      <th></th>\n",
       "      <th>Lectures</th>\n",
       "      <th>Tution</th>\n",
       "      <th>Marks</th>\n",
       "    </tr>\n",
       "  </thead>\n",
       "  <tbody>\n",
       "    <tr>\n",
       "      <th>0</th>\n",
       "      <td>Daily</td>\n",
       "      <td>Daily</td>\n",
       "      <td>71</td>\n",
       "    </tr>\n",
       "    <tr>\n",
       "      <th>1</th>\n",
       "      <td>Daily</td>\n",
       "      <td>Daily</td>\n",
       "      <td>95</td>\n",
       "    </tr>\n",
       "    <tr>\n",
       "      <th>2</th>\n",
       "      <td>Daily</td>\n",
       "      <td>Daily</td>\n",
       "      <td>87</td>\n",
       "    </tr>\n",
       "    <tr>\n",
       "      <th>3</th>\n",
       "      <td>Daily</td>\n",
       "      <td>Daily</td>\n",
       "      <td>68</td>\n",
       "    </tr>\n",
       "    <tr>\n",
       "      <th>4</th>\n",
       "      <td>Daily</td>\n",
       "      <td>Daily</td>\n",
       "      <td>73</td>\n",
       "    </tr>\n",
       "    <tr>\n",
       "      <th>5</th>\n",
       "      <td>Daily</td>\n",
       "      <td>Daily</td>\n",
       "      <td>58</td>\n",
       "    </tr>\n",
       "    <tr>\n",
       "      <th>6</th>\n",
       "      <td>Daily</td>\n",
       "      <td>Daily</td>\n",
       "      <td>89</td>\n",
       "    </tr>\n",
       "    <tr>\n",
       "      <th>7</th>\n",
       "      <td>Daily</td>\n",
       "      <td>Daily</td>\n",
       "      <td>64</td>\n",
       "    </tr>\n",
       "    <tr>\n",
       "      <th>8</th>\n",
       "      <td>Daily</td>\n",
       "      <td>Daily</td>\n",
       "      <td>94</td>\n",
       "    </tr>\n",
       "    <tr>\n",
       "      <th>9</th>\n",
       "      <td>Daily</td>\n",
       "      <td>Daily</td>\n",
       "      <td>45</td>\n",
       "    </tr>\n",
       "    <tr>\n",
       "      <th>10</th>\n",
       "      <td>Daily</td>\n",
       "      <td>Daily</td>\n",
       "      <td>69</td>\n",
       "    </tr>\n",
       "    <tr>\n",
       "      <th>11</th>\n",
       "      <td>Daily</td>\n",
       "      <td>Daily</td>\n",
       "      <td>91</td>\n",
       "    </tr>\n",
       "    <tr>\n",
       "      <th>12</th>\n",
       "      <td>Daily</td>\n",
       "      <td>Daily</td>\n",
       "      <td>46</td>\n",
       "    </tr>\n",
       "    <tr>\n",
       "      <th>13</th>\n",
       "      <td>Daily</td>\n",
       "      <td>Daily</td>\n",
       "      <td>52</td>\n",
       "    </tr>\n",
       "    <tr>\n",
       "      <th>14</th>\n",
       "      <td>Daily</td>\n",
       "      <td>Daily</td>\n",
       "      <td>81</td>\n",
       "    </tr>\n",
       "    <tr>\n",
       "      <th>15</th>\n",
       "      <td>Daily</td>\n",
       "      <td>Daily</td>\n",
       "      <td>49</td>\n",
       "    </tr>\n",
       "    <tr>\n",
       "      <th>16</th>\n",
       "      <td>Daily</td>\n",
       "      <td>Daily</td>\n",
       "      <td>41</td>\n",
       "    </tr>\n",
       "    <tr>\n",
       "      <th>17</th>\n",
       "      <td>Daily</td>\n",
       "      <td>Daily</td>\n",
       "      <td>92</td>\n",
       "    </tr>\n",
       "    <tr>\n",
       "      <th>18</th>\n",
       "      <td>Daily</td>\n",
       "      <td>Daily</td>\n",
       "      <td>44</td>\n",
       "    </tr>\n",
       "    <tr>\n",
       "      <th>19</th>\n",
       "      <td>Daily</td>\n",
       "      <td>Daily</td>\n",
       "      <td>70</td>\n",
       "    </tr>\n",
       "    <tr>\n",
       "      <th>20</th>\n",
       "      <td>Weekly</td>\n",
       "      <td>Weekly</td>\n",
       "      <td>47</td>\n",
       "    </tr>\n",
       "    <tr>\n",
       "      <th>21</th>\n",
       "      <td>Weekly</td>\n",
       "      <td>Weekly</td>\n",
       "      <td>97</td>\n",
       "    </tr>\n",
       "    <tr>\n",
       "      <th>22</th>\n",
       "      <td>Weekly</td>\n",
       "      <td>Weekly</td>\n",
       "      <td>85</td>\n",
       "    </tr>\n",
       "    <tr>\n",
       "      <th>23</th>\n",
       "      <td>Weekly</td>\n",
       "      <td>Weekly</td>\n",
       "      <td>40</td>\n",
       "    </tr>\n",
       "    <tr>\n",
       "      <th>24</th>\n",
       "      <td>Weekly</td>\n",
       "      <td>Weekly</td>\n",
       "      <td>93</td>\n",
       "    </tr>\n",
       "    <tr>\n",
       "      <th>25</th>\n",
       "      <td>Weekly</td>\n",
       "      <td>Weekly</td>\n",
       "      <td>62</td>\n",
       "    </tr>\n",
       "    <tr>\n",
       "      <th>26</th>\n",
       "      <td>Weekly</td>\n",
       "      <td>Weekly</td>\n",
       "      <td>59</td>\n",
       "    </tr>\n",
       "    <tr>\n",
       "      <th>27</th>\n",
       "      <td>Weekly</td>\n",
       "      <td>Weekly</td>\n",
       "      <td>60</td>\n",
       "    </tr>\n",
       "    <tr>\n",
       "      <th>28</th>\n",
       "      <td>Weekly</td>\n",
       "      <td>Weekly</td>\n",
       "      <td>50</td>\n",
       "    </tr>\n",
       "    <tr>\n",
       "      <th>29</th>\n",
       "      <td>Weekly</td>\n",
       "      <td>Weekly</td>\n",
       "      <td>82</td>\n",
       "    </tr>\n",
       "    <tr>\n",
       "      <th>30</th>\n",
       "      <td>Weekly</td>\n",
       "      <td>Weekly</td>\n",
       "      <td>56</td>\n",
       "    </tr>\n",
       "    <tr>\n",
       "      <th>31</th>\n",
       "      <td>Weekly</td>\n",
       "      <td>Weekly</td>\n",
       "      <td>43</td>\n",
       "    </tr>\n",
       "    <tr>\n",
       "      <th>32</th>\n",
       "      <td>Weekly</td>\n",
       "      <td>Weekly</td>\n",
       "      <td>51</td>\n",
       "    </tr>\n",
       "    <tr>\n",
       "      <th>33</th>\n",
       "      <td>Weekly</td>\n",
       "      <td>Weekly</td>\n",
       "      <td>39</td>\n",
       "    </tr>\n",
       "    <tr>\n",
       "      <th>34</th>\n",
       "      <td>Weekly</td>\n",
       "      <td>Weekly</td>\n",
       "      <td>80</td>\n",
       "    </tr>\n",
       "    <tr>\n",
       "      <th>35</th>\n",
       "      <td>Weekly</td>\n",
       "      <td>Weekly</td>\n",
       "      <td>36</td>\n",
       "    </tr>\n",
       "    <tr>\n",
       "      <th>36</th>\n",
       "      <td>Weekly</td>\n",
       "      <td>Weekly</td>\n",
       "      <td>72</td>\n",
       "    </tr>\n",
       "    <tr>\n",
       "      <th>37</th>\n",
       "      <td>Weekly</td>\n",
       "      <td>Weekly</td>\n",
       "      <td>77</td>\n",
       "    </tr>\n",
       "    <tr>\n",
       "      <th>38</th>\n",
       "      <td>Weekly</td>\n",
       "      <td>Weekly</td>\n",
       "      <td>53</td>\n",
       "    </tr>\n",
       "    <tr>\n",
       "      <th>39</th>\n",
       "      <td>Weekly</td>\n",
       "      <td>Weekly</td>\n",
       "      <td>35</td>\n",
       "    </tr>\n",
       "  </tbody>\n",
       "</table>\n",
       "</div>"
      ],
      "text/plain": [
       "   Lectures  Tution  Marks\n",
       "0     Daily   Daily     71\n",
       "1     Daily   Daily     95\n",
       "2     Daily   Daily     87\n",
       "3     Daily   Daily     68\n",
       "4     Daily   Daily     73\n",
       "5     Daily   Daily     58\n",
       "6     Daily   Daily     89\n",
       "7     Daily   Daily     64\n",
       "8     Daily   Daily     94\n",
       "9     Daily   Daily     45\n",
       "10    Daily   Daily     69\n",
       "11    Daily   Daily     91\n",
       "12    Daily   Daily     46\n",
       "13    Daily   Daily     52\n",
       "14    Daily   Daily     81\n",
       "15    Daily   Daily     49\n",
       "16    Daily   Daily     41\n",
       "17    Daily   Daily     92\n",
       "18    Daily   Daily     44\n",
       "19    Daily   Daily     70\n",
       "20   Weekly  Weekly     47\n",
       "21   Weekly  Weekly     97\n",
       "22   Weekly  Weekly     85\n",
       "23   Weekly  Weekly     40\n",
       "24   Weekly  Weekly     93\n",
       "25   Weekly  Weekly     62\n",
       "26   Weekly  Weekly     59\n",
       "27   Weekly  Weekly     60\n",
       "28   Weekly  Weekly     50\n",
       "29   Weekly  Weekly     82\n",
       "30   Weekly  Weekly     56\n",
       "31   Weekly  Weekly     43\n",
       "32   Weekly  Weekly     51\n",
       "33   Weekly  Weekly     39\n",
       "34   Weekly  Weekly     80\n",
       "35   Weekly  Weekly     36\n",
       "36   Weekly  Weekly     72\n",
       "37   Weekly  Weekly     77\n",
       "38   Weekly  Weekly     53\n",
       "39   Weekly  Weekly     35"
      ]
     },
     "execution_count": 27,
     "metadata": {},
     "output_type": "execute_result"
    }
   ],
   "source": [
    "marks_data"
   ]
  },
  {
   "cell_type": "code",
   "execution_count": 28,
   "id": "69070cbe",
   "metadata": {},
   "outputs": [],
   "source": [
    "# now running ols model to create relationship between the 2 factors and output variable\n",
    "\n",
    "from statsmodels.formula.api import ols"
   ]
  },
  {
   "cell_type": "code",
   "execution_count": 29,
   "id": "76fb265a",
   "metadata": {},
   "outputs": [],
   "source": [
    "models=ols('Marks ~ C(Lectures)+ C(Tution) + C(Lectures):C(Tution)',data=marks_data).fit()\n",
    "\n",
    "# marks is output variable and c(lectures) is independet variable, tution is the second variable and c(tution): c (lectures) mean both are togetnher \n"
   ]
  },
  {
   "cell_type": "code",
   "execution_count": 31,
   "id": "25e3b521",
   "metadata": {},
   "outputs": [],
   "source": [
    "import statsmodels.api as sm"
   ]
  },
  {
   "cell_type": "code",
   "execution_count": 34,
   "id": "633319a6",
   "metadata": {},
   "outputs": [
    {
     "data": {
      "text/html": [
       "<div>\n",
       "<style scoped>\n",
       "    .dataframe tbody tr th:only-of-type {\n",
       "        vertical-align: middle;\n",
       "    }\n",
       "\n",
       "    .dataframe tbody tr th {\n",
       "        vertical-align: top;\n",
       "    }\n",
       "\n",
       "    .dataframe thead th {\n",
       "        text-align: right;\n",
       "    }\n",
       "</style>\n",
       "<table border=\"1\" class=\"dataframe\">\n",
       "  <thead>\n",
       "    <tr style=\"text-align: right;\">\n",
       "      <th></th>\n",
       "      <th>df</th>\n",
       "      <th>sum_sq</th>\n",
       "      <th>mean_sq</th>\n",
       "      <th>F</th>\n",
       "      <th>PR(&gt;F)</th>\n",
       "    </tr>\n",
       "  </thead>\n",
       "  <tbody>\n",
       "    <tr>\n",
       "      <th>C(Lectures)</th>\n",
       "      <td>1.0</td>\n",
       "      <td>656.100000</td>\n",
       "      <td>656.100000</td>\n",
       "      <td>1.821235</td>\n",
       "      <td>0.185152</td>\n",
       "    </tr>\n",
       "    <tr>\n",
       "      <th>C(Tution)</th>\n",
       "      <td>1.0</td>\n",
       "      <td>648.021355</td>\n",
       "      <td>648.021355</td>\n",
       "      <td>1.798810</td>\n",
       "      <td>0.187818</td>\n",
       "    </tr>\n",
       "    <tr>\n",
       "      <th>C(Lectures):C(Tution)</th>\n",
       "      <td>1.0</td>\n",
       "      <td>277.950714</td>\n",
       "      <td>277.950714</td>\n",
       "      <td>0.771550</td>\n",
       "      <td>0.385259</td>\n",
       "    </tr>\n",
       "    <tr>\n",
       "      <th>Residual</th>\n",
       "      <td>38.0</td>\n",
       "      <td>13689.500000</td>\n",
       "      <td>360.250000</td>\n",
       "      <td>NaN</td>\n",
       "      <td>NaN</td>\n",
       "    </tr>\n",
       "  </tbody>\n",
       "</table>\n",
       "</div>"
      ],
      "text/plain": [
       "                         df        sum_sq     mean_sq         F    PR(>F)\n",
       "C(Lectures)             1.0    656.100000  656.100000  1.821235  0.185152\n",
       "C(Tution)               1.0    648.021355  648.021355  1.798810  0.187818\n",
       "C(Lectures):C(Tution)   1.0    277.950714  277.950714  0.771550  0.385259\n",
       "Residual               38.0  13689.500000  360.250000       NaN       NaN"
      ]
     },
     "execution_count": 34,
     "metadata": {},
     "output_type": "execute_result"
    }
   ],
   "source": [
    "sm.stats.anova_lm(models)"
   ]
  },
  {
   "cell_type": "code",
   "execution_count": null,
   "id": "94b377ac",
   "metadata": {},
   "outputs": [],
   "source": [
    "# Here p value is 0.38 which is greaer than 0.05 hence we will accept null hypothesis\n",
    "#here we considered p value of 3rd row of c(lectures):c(tution) as we want to understad the impact of both variables on the output"
   ]
  }
 ],
 "metadata": {
  "kernelspec": {
   "display_name": "Python 3 (ipykernel)",
   "language": "python",
   "name": "python3"
  },
  "language_info": {
   "codemirror_mode": {
    "name": "ipython",
    "version": 3
   },
   "file_extension": ".py",
   "mimetype": "text/x-python",
   "name": "python",
   "nbconvert_exporter": "python",
   "pygments_lexer": "ipython3",
   "version": "3.11.5"
  }
 },
 "nbformat": 4,
 "nbformat_minor": 5
}
